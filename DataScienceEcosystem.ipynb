{
 "cells": [
  {
   "cell_type": "markdown",
   "id": "2ce0d769-ca3b-43c6-97bf-5b706c885e72",
   "metadata": {},
   "source": [
    "# Data Science Tools and Ecosystem"
   ]
  },
  {
   "cell_type": "markdown",
   "id": "6dd887e8-2890-41e2-a86c-c560c3c581f2",
   "metadata": {},
   "source": [
    "***Objectives:***"
   ]
  },
  {
   "cell_type": "markdown",
   "id": "79d30baf-38f4-4cbe-89e3-aa2546dbcbbb",
   "metadata": {},
   "source": [
    "- List popular languages for Data Science"
   ]
  },
  {
   "cell_type": "markdown",
   "id": "4bc58b98-8cdb-41d1-8314-c670ce593223",
   "metadata": {},
   "source": [
    "- List of the commonly use libraries used by Data Scientist"
   ]
  },
  {
   "cell_type": "markdown",
   "id": "ec456b5c-d226-4c6e-9f61-9ecd60a3b6cf",
   "metadata": {},
   "source": [
    "- List Data Scientist tools"
   ]
  },
  {
   "cell_type": "markdown",
   "id": "5e356fb5-26b5-4757-95c4-d17763e51202",
   "metadata": {},
   "source": [
    " In This Notebook, Data Science Tools and Ecosystem are Summarized"
   ]
  },
  {
   "cell_type": "markdown",
   "id": "bfaf3629-8b25-4bee-b4c7-7757a9d378f9",
   "metadata": {},
   "source": [
    " Some of the popular languages that data scientists use are:"
   ]
  },
  {
   "cell_type": "markdown",
   "id": "3543655a-fdd3-4b86-990c-c65f66a4e9d8",
   "metadata": {},
   "source": [
    " 1. Python\n",
    " 2. R\n",
    " 3. SQL"
   ]
  },
  {
   "cell_type": "markdown",
   "id": "34e5083e-cdf1-4d66-a421-35b258488f4e",
   "metadata": {},
   "source": [
    " Some of the commonly used libraries used by Data Scientist include:"
   ]
  },
  {
   "cell_type": "markdown",
   "id": "4fa29724-b0a3-40f6-bdde-ef51a8c65beb",
   "metadata": {
    "jp-MarkdownHeadingCollapsed": true
   },
   "source": [
    " 1. NumPy\n",
    " 2. Pandas\n",
    " 3. TensorFlow\n"
   ]
  },
  {
   "cell_type": "markdown",
   "id": "561ffa19-1de5-4989-8a92-9d7f2265e439",
   "metadata": {},
   "source": [
    "|Data Science Tools|\n",
    "--------------------\n",
    "Python\n",
    "R\n",
    "Apache Spark"
   ]
  },
  {
   "cell_type": "markdown",
   "id": "dd95c62f-edc0-41c9-b823-9615c9f03563",
   "metadata": {},
   "source": [
    "### Below are a few examples of evaluating arithmetic expressions in Python"
   ]
  },
  {
   "cell_type": "markdown",
   "id": "c8f89114-4ffa-4922-a7cf-8e2db2cfe391",
   "metadata": {},
   "source": [
    "This a simple arithmetic expression to multiply then add integers"
   ]
  },
  {
   "cell_type": "code",
   "execution_count": 18,
   "id": "008119ba-a555-4b8e-9615-73068b6f4a0e",
   "metadata": {},
   "outputs": [
    {
     "data": {
      "text/plain": [
       "17"
      ]
     },
     "execution_count": 18,
     "metadata": {},
     "output_type": "execute_result"
    }
   ],
   "source": [
    "(3*4)+5"
   ]
  },
  {
   "cell_type": "markdown",
   "id": "797f5858-770b-4782-b1f4-d19b6659b010",
   "metadata": {},
   "source": [
    "This will convert 200 minutes to hours by diving by 60"
   ]
  },
  {
   "cell_type": "code",
   "execution_count": 24,
   "id": "458c5f65-97bb-4364-92f5-54af7a7ad26c",
   "metadata": {},
   "outputs": [
    {
     "data": {
      "text/plain": [
       "3.3333333333333335"
      ]
     },
     "execution_count": 24,
     "metadata": {},
     "output_type": "execute_result"
    }
   ],
   "source": [
    "(200/60)"
   ]
  },
  {
   "cell_type": "markdown",
   "id": "fae8e1ee-6d65-474f-a6f5-78f3c065dd5a",
   "metadata": {},
   "source": [
    "## Author \n",
    "Alex Konopatskyi"
   ]
  },
  {
   "cell_type": "code",
   "execution_count": null,
   "id": "b00485bb-656f-4f85-804b-888646b21286",
   "metadata": {},
   "outputs": [],
   "source": []
  }
 ],
 "metadata": {
  "kernelspec": {
   "display_name": "anaconda-2024.02-py310",
   "language": "python",
   "name": "conda-env-anaconda-2024.02-py310-py"
  },
  "language_info": {
   "codemirror_mode": {
    "name": "ipython",
    "version": 3
   },
   "file_extension": ".py",
   "mimetype": "text/x-python",
   "name": "python",
   "nbconvert_exporter": "python",
   "pygments_lexer": "ipython3",
   "version": "3.10.14"
  }
 },
 "nbformat": 4,
 "nbformat_minor": 5
}
